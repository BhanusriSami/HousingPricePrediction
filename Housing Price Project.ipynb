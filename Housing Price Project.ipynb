{
 "cells": [
  {
   "cell_type": "code",
   "execution_count": 420,
   "id": "beaa62fa",
   "metadata": {},
   "outputs": [],
   "source": [
    "## Importing all necessary libraries.\n",
    "\n",
    "import pandas as pd\n",
    "import numpy as np\n",
    "import matplotlib.pyplot as plt\n",
    "import seaborn as sns\n",
    "from sklearn.preprocessing import OneHotEncoder\n",
    "from sklearn.model_selection import train_test_split\n",
    "from sklearn.linear_model import LinearRegression\n",
    "from sklearn.ensemble import RandomForestRegressor\n",
    "from sklearn.svm import SVR\n",
    "from sklearn.linear_model import Ridge\n",
    "from sklearn.metrics import mean_absolute_percentage_error\n",
    "from sklearn.metrics import mean_squared_error\n",
    "from sklearn.metrics import mean_absolute_error\n",
    "from sklearn.metrics import r2_score"
   ]
  },
  {
   "cell_type": "code",
   "execution_count": 421,
   "id": "234f43e9",
   "metadata": {},
   "outputs": [],
   "source": [
    "## Read the Data\n",
    "\n",
    "dataset = pd.read_csv(\"HousePricePrediction.csv\")"
   ]
  },
  {
   "cell_type": "code",
   "execution_count": 422,
   "id": "7f739151",
   "metadata": {},
   "outputs": [
    {
     "data": {
      "text/plain": [
       "(2919, 13)"
      ]
     },
     "execution_count": 422,
     "metadata": {},
     "output_type": "execute_result"
    }
   ],
   "source": [
    "# Show the shape\n",
    "\n",
    "dataset.shape"
   ]
  },
  {
   "cell_type": "code",
   "execution_count": 423,
   "id": "3d113397",
   "metadata": {},
   "outputs": [
    {
     "data": {
      "text/html": [
       "<div>\n",
       "<style scoped>\n",
       "    .dataframe tbody tr th:only-of-type {\n",
       "        vertical-align: middle;\n",
       "    }\n",
       "\n",
       "    .dataframe tbody tr th {\n",
       "        vertical-align: top;\n",
       "    }\n",
       "\n",
       "    .dataframe thead th {\n",
       "        text-align: right;\n",
       "    }\n",
       "</style>\n",
       "<table border=\"1\" class=\"dataframe\">\n",
       "  <thead>\n",
       "    <tr style=\"text-align: right;\">\n",
       "      <th></th>\n",
       "      <th>Id</th>\n",
       "      <th>MSSubClass</th>\n",
       "      <th>LotArea</th>\n",
       "      <th>OverallCond</th>\n",
       "      <th>YearBuilt</th>\n",
       "      <th>YearRemodAdd</th>\n",
       "      <th>BsmtFinSF2</th>\n",
       "      <th>TotalBsmtSF</th>\n",
       "      <th>SalePrice</th>\n",
       "    </tr>\n",
       "  </thead>\n",
       "  <tbody>\n",
       "    <tr>\n",
       "      <th>count</th>\n",
       "      <td>2919.000000</td>\n",
       "      <td>2919.000000</td>\n",
       "      <td>2919.000000</td>\n",
       "      <td>2919.000000</td>\n",
       "      <td>2919.000000</td>\n",
       "      <td>2919.000000</td>\n",
       "      <td>2918.000000</td>\n",
       "      <td>2918.000000</td>\n",
       "      <td>1460.000000</td>\n",
       "    </tr>\n",
       "    <tr>\n",
       "      <th>mean</th>\n",
       "      <td>1459.000000</td>\n",
       "      <td>57.137718</td>\n",
       "      <td>10168.114080</td>\n",
       "      <td>5.564577</td>\n",
       "      <td>1971.312778</td>\n",
       "      <td>1984.264474</td>\n",
       "      <td>49.582248</td>\n",
       "      <td>1051.777587</td>\n",
       "      <td>180921.195890</td>\n",
       "    </tr>\n",
       "    <tr>\n",
       "      <th>std</th>\n",
       "      <td>842.787043</td>\n",
       "      <td>42.517628</td>\n",
       "      <td>7886.996359</td>\n",
       "      <td>1.113131</td>\n",
       "      <td>30.291442</td>\n",
       "      <td>20.894344</td>\n",
       "      <td>169.205611</td>\n",
       "      <td>440.766258</td>\n",
       "      <td>79442.502883</td>\n",
       "    </tr>\n",
       "    <tr>\n",
       "      <th>min</th>\n",
       "      <td>0.000000</td>\n",
       "      <td>20.000000</td>\n",
       "      <td>1300.000000</td>\n",
       "      <td>1.000000</td>\n",
       "      <td>1872.000000</td>\n",
       "      <td>1950.000000</td>\n",
       "      <td>0.000000</td>\n",
       "      <td>0.000000</td>\n",
       "      <td>34900.000000</td>\n",
       "    </tr>\n",
       "    <tr>\n",
       "      <th>25%</th>\n",
       "      <td>729.500000</td>\n",
       "      <td>20.000000</td>\n",
       "      <td>7478.000000</td>\n",
       "      <td>5.000000</td>\n",
       "      <td>1953.500000</td>\n",
       "      <td>1965.000000</td>\n",
       "      <td>0.000000</td>\n",
       "      <td>793.000000</td>\n",
       "      <td>129975.000000</td>\n",
       "    </tr>\n",
       "    <tr>\n",
       "      <th>50%</th>\n",
       "      <td>1459.000000</td>\n",
       "      <td>50.000000</td>\n",
       "      <td>9453.000000</td>\n",
       "      <td>5.000000</td>\n",
       "      <td>1973.000000</td>\n",
       "      <td>1993.000000</td>\n",
       "      <td>0.000000</td>\n",
       "      <td>989.500000</td>\n",
       "      <td>163000.000000</td>\n",
       "    </tr>\n",
       "    <tr>\n",
       "      <th>75%</th>\n",
       "      <td>2188.500000</td>\n",
       "      <td>70.000000</td>\n",
       "      <td>11570.000000</td>\n",
       "      <td>6.000000</td>\n",
       "      <td>2001.000000</td>\n",
       "      <td>2004.000000</td>\n",
       "      <td>0.000000</td>\n",
       "      <td>1302.000000</td>\n",
       "      <td>214000.000000</td>\n",
       "    </tr>\n",
       "    <tr>\n",
       "      <th>max</th>\n",
       "      <td>2918.000000</td>\n",
       "      <td>190.000000</td>\n",
       "      <td>215245.000000</td>\n",
       "      <td>9.000000</td>\n",
       "      <td>2010.000000</td>\n",
       "      <td>2010.000000</td>\n",
       "      <td>1526.000000</td>\n",
       "      <td>6110.000000</td>\n",
       "      <td>755000.000000</td>\n",
       "    </tr>\n",
       "  </tbody>\n",
       "</table>\n",
       "</div>"
      ],
      "text/plain": [
       "                Id   MSSubClass        LotArea  OverallCond    YearBuilt  \\\n",
       "count  2919.000000  2919.000000    2919.000000  2919.000000  2919.000000   \n",
       "mean   1459.000000    57.137718   10168.114080     5.564577  1971.312778   \n",
       "std     842.787043    42.517628    7886.996359     1.113131    30.291442   \n",
       "min       0.000000    20.000000    1300.000000     1.000000  1872.000000   \n",
       "25%     729.500000    20.000000    7478.000000     5.000000  1953.500000   \n",
       "50%    1459.000000    50.000000    9453.000000     5.000000  1973.000000   \n",
       "75%    2188.500000    70.000000   11570.000000     6.000000  2001.000000   \n",
       "max    2918.000000   190.000000  215245.000000     9.000000  2010.000000   \n",
       "\n",
       "       YearRemodAdd   BsmtFinSF2  TotalBsmtSF      SalePrice  \n",
       "count   2919.000000  2918.000000  2918.000000    1460.000000  \n",
       "mean    1984.264474    49.582248  1051.777587  180921.195890  \n",
       "std       20.894344   169.205611   440.766258   79442.502883  \n",
       "min     1950.000000     0.000000     0.000000   34900.000000  \n",
       "25%     1965.000000     0.000000   793.000000  129975.000000  \n",
       "50%     1993.000000     0.000000   989.500000  163000.000000  \n",
       "75%     2004.000000     0.000000  1302.000000  214000.000000  \n",
       "max     2010.000000  1526.000000  6110.000000  755000.000000  "
      ]
     },
     "execution_count": 423,
     "metadata": {},
     "output_type": "execute_result"
    }
   ],
   "source": [
    "## Show the data description\n",
    "\n",
    "dataset.describe()"
   ]
  },
  {
   "cell_type": "code",
   "execution_count": 424,
   "id": "3ff34ea1",
   "metadata": {},
   "outputs": [
    {
     "data": {
      "text/plain": [
       "Id                 0\n",
       "MSSubClass         0\n",
       "MSZoning           4\n",
       "LotArea            0\n",
       "LotConfig          0\n",
       "BldgType           0\n",
       "OverallCond        0\n",
       "YearBuilt          0\n",
       "YearRemodAdd       0\n",
       "Exterior1st        1\n",
       "BsmtFinSF2         1\n",
       "TotalBsmtSF        1\n",
       "SalePrice       1459\n",
       "dtype: int64"
      ]
     },
     "execution_count": 424,
     "metadata": {},
     "output_type": "execute_result"
    }
   ],
   "source": [
    "## looking for null values\n",
    "\n",
    "dataset.isnull().sum()"
   ]
  },
  {
   "cell_type": "code",
   "execution_count": 425,
   "id": "bbf60013",
   "metadata": {},
   "outputs": [],
   "source": [
    "## Replace the null values of SalePrice column with mean\n",
    "\n",
    "dataset['SalePrice'].fillna(dataset['SalePrice'].mean(),inplace=True)"
   ]
  },
  {
   "cell_type": "code",
   "execution_count": 426,
   "id": "bfee3472",
   "metadata": {},
   "outputs": [
    {
     "data": {
      "text/plain": [
       "(2919, 13)"
      ]
     },
     "execution_count": 426,
     "metadata": {},
     "output_type": "execute_result"
    }
   ],
   "source": [
    "dataset.shape"
   ]
  },
  {
   "cell_type": "code",
   "execution_count": 427,
   "id": "135f2bb3",
   "metadata": {},
   "outputs": [],
   "source": [
    "##dataset['MSZoning'].dropna(inplace=True)"
   ]
  },
  {
   "cell_type": "code",
   "execution_count": 428,
   "id": "a6866797",
   "metadata": {
    "scrolled": false
   },
   "outputs": [],
   "source": [
    "##dataset[['Exterior1st','BsmtFinSF2','TotalBsmtSF']].dropna(inplace=True)"
   ]
  },
  {
   "cell_type": "code",
   "execution_count": 429,
   "id": "97959140",
   "metadata": {},
   "outputs": [
    {
     "data": {
      "text/plain": [
       "(2919, 13)"
      ]
     },
     "execution_count": 429,
     "metadata": {},
     "output_type": "execute_result"
    }
   ],
   "source": [
    "dataset.shape"
   ]
  },
  {
   "cell_type": "code",
   "execution_count": 430,
   "id": "db783bb0",
   "metadata": {},
   "outputs": [],
   "source": [
    "## Deleting the null Values.\n",
    "\n",
    "dataset.dropna(inplace=True)"
   ]
  },
  {
   "cell_type": "code",
   "execution_count": 431,
   "id": "4f7c9540",
   "metadata": {},
   "outputs": [
    {
     "data": {
      "text/html": [
       "<div>\n",
       "<style scoped>\n",
       "    .dataframe tbody tr th:only-of-type {\n",
       "        vertical-align: middle;\n",
       "    }\n",
       "\n",
       "    .dataframe tbody tr th {\n",
       "        vertical-align: top;\n",
       "    }\n",
       "\n",
       "    .dataframe thead th {\n",
       "        text-align: right;\n",
       "    }\n",
       "</style>\n",
       "<table border=\"1\" class=\"dataframe\">\n",
       "  <thead>\n",
       "    <tr style=\"text-align: right;\">\n",
       "      <th></th>\n",
       "      <th>Id</th>\n",
       "      <th>MSSubClass</th>\n",
       "      <th>MSZoning</th>\n",
       "      <th>LotArea</th>\n",
       "      <th>LotConfig</th>\n",
       "      <th>BldgType</th>\n",
       "      <th>OverallCond</th>\n",
       "      <th>YearBuilt</th>\n",
       "      <th>YearRemodAdd</th>\n",
       "      <th>Exterior1st</th>\n",
       "      <th>BsmtFinSF2</th>\n",
       "      <th>TotalBsmtSF</th>\n",
       "      <th>SalePrice</th>\n",
       "    </tr>\n",
       "  </thead>\n",
       "  <tbody>\n",
       "    <tr>\n",
       "      <th>0</th>\n",
       "      <td>0</td>\n",
       "      <td>60</td>\n",
       "      <td>RL</td>\n",
       "      <td>8450</td>\n",
       "      <td>Inside</td>\n",
       "      <td>1Fam</td>\n",
       "      <td>5</td>\n",
       "      <td>2003</td>\n",
       "      <td>2003</td>\n",
       "      <td>VinylSd</td>\n",
       "      <td>0.0</td>\n",
       "      <td>856.0</td>\n",
       "      <td>208500.00000</td>\n",
       "    </tr>\n",
       "    <tr>\n",
       "      <th>1</th>\n",
       "      <td>1</td>\n",
       "      <td>20</td>\n",
       "      <td>RL</td>\n",
       "      <td>9600</td>\n",
       "      <td>FR2</td>\n",
       "      <td>1Fam</td>\n",
       "      <td>8</td>\n",
       "      <td>1976</td>\n",
       "      <td>1976</td>\n",
       "      <td>MetalSd</td>\n",
       "      <td>0.0</td>\n",
       "      <td>1262.0</td>\n",
       "      <td>181500.00000</td>\n",
       "    </tr>\n",
       "    <tr>\n",
       "      <th>2</th>\n",
       "      <td>2</td>\n",
       "      <td>60</td>\n",
       "      <td>RL</td>\n",
       "      <td>11250</td>\n",
       "      <td>Inside</td>\n",
       "      <td>1Fam</td>\n",
       "      <td>5</td>\n",
       "      <td>2001</td>\n",
       "      <td>2002</td>\n",
       "      <td>VinylSd</td>\n",
       "      <td>0.0</td>\n",
       "      <td>920.0</td>\n",
       "      <td>223500.00000</td>\n",
       "    </tr>\n",
       "    <tr>\n",
       "      <th>3</th>\n",
       "      <td>3</td>\n",
       "      <td>70</td>\n",
       "      <td>RL</td>\n",
       "      <td>9550</td>\n",
       "      <td>Corner</td>\n",
       "      <td>1Fam</td>\n",
       "      <td>5</td>\n",
       "      <td>1915</td>\n",
       "      <td>1970</td>\n",
       "      <td>Wd Sdng</td>\n",
       "      <td>0.0</td>\n",
       "      <td>756.0</td>\n",
       "      <td>140000.00000</td>\n",
       "    </tr>\n",
       "    <tr>\n",
       "      <th>4</th>\n",
       "      <td>4</td>\n",
       "      <td>60</td>\n",
       "      <td>RL</td>\n",
       "      <td>14260</td>\n",
       "      <td>FR2</td>\n",
       "      <td>1Fam</td>\n",
       "      <td>5</td>\n",
       "      <td>2000</td>\n",
       "      <td>2000</td>\n",
       "      <td>VinylSd</td>\n",
       "      <td>0.0</td>\n",
       "      <td>1145.0</td>\n",
       "      <td>250000.00000</td>\n",
       "    </tr>\n",
       "    <tr>\n",
       "      <th>...</th>\n",
       "      <td>...</td>\n",
       "      <td>...</td>\n",
       "      <td>...</td>\n",
       "      <td>...</td>\n",
       "      <td>...</td>\n",
       "      <td>...</td>\n",
       "      <td>...</td>\n",
       "      <td>...</td>\n",
       "      <td>...</td>\n",
       "      <td>...</td>\n",
       "      <td>...</td>\n",
       "      <td>...</td>\n",
       "      <td>...</td>\n",
       "    </tr>\n",
       "    <tr>\n",
       "      <th>2914</th>\n",
       "      <td>2914</td>\n",
       "      <td>160</td>\n",
       "      <td>RM</td>\n",
       "      <td>1936</td>\n",
       "      <td>Inside</td>\n",
       "      <td>Twnhs</td>\n",
       "      <td>7</td>\n",
       "      <td>1970</td>\n",
       "      <td>1970</td>\n",
       "      <td>CemntBd</td>\n",
       "      <td>0.0</td>\n",
       "      <td>546.0</td>\n",
       "      <td>180921.19589</td>\n",
       "    </tr>\n",
       "    <tr>\n",
       "      <th>2915</th>\n",
       "      <td>2915</td>\n",
       "      <td>160</td>\n",
       "      <td>RM</td>\n",
       "      <td>1894</td>\n",
       "      <td>Inside</td>\n",
       "      <td>TwnhsE</td>\n",
       "      <td>5</td>\n",
       "      <td>1970</td>\n",
       "      <td>1970</td>\n",
       "      <td>CemntBd</td>\n",
       "      <td>0.0</td>\n",
       "      <td>546.0</td>\n",
       "      <td>180921.19589</td>\n",
       "    </tr>\n",
       "    <tr>\n",
       "      <th>2916</th>\n",
       "      <td>2916</td>\n",
       "      <td>20</td>\n",
       "      <td>RL</td>\n",
       "      <td>20000</td>\n",
       "      <td>Inside</td>\n",
       "      <td>1Fam</td>\n",
       "      <td>7</td>\n",
       "      <td>1960</td>\n",
       "      <td>1996</td>\n",
       "      <td>VinylSd</td>\n",
       "      <td>0.0</td>\n",
       "      <td>1224.0</td>\n",
       "      <td>180921.19589</td>\n",
       "    </tr>\n",
       "    <tr>\n",
       "      <th>2917</th>\n",
       "      <td>2917</td>\n",
       "      <td>85</td>\n",
       "      <td>RL</td>\n",
       "      <td>10441</td>\n",
       "      <td>Inside</td>\n",
       "      <td>1Fam</td>\n",
       "      <td>5</td>\n",
       "      <td>1992</td>\n",
       "      <td>1992</td>\n",
       "      <td>HdBoard</td>\n",
       "      <td>0.0</td>\n",
       "      <td>912.0</td>\n",
       "      <td>180921.19589</td>\n",
       "    </tr>\n",
       "    <tr>\n",
       "      <th>2918</th>\n",
       "      <td>2918</td>\n",
       "      <td>60</td>\n",
       "      <td>RL</td>\n",
       "      <td>9627</td>\n",
       "      <td>Inside</td>\n",
       "      <td>1Fam</td>\n",
       "      <td>5</td>\n",
       "      <td>1993</td>\n",
       "      <td>1994</td>\n",
       "      <td>HdBoard</td>\n",
       "      <td>0.0</td>\n",
       "      <td>996.0</td>\n",
       "      <td>180921.19589</td>\n",
       "    </tr>\n",
       "  </tbody>\n",
       "</table>\n",
       "<p>2913 rows × 13 columns</p>\n",
       "</div>"
      ],
      "text/plain": [
       "        Id  MSSubClass MSZoning  LotArea LotConfig BldgType  OverallCond  \\\n",
       "0        0          60       RL     8450    Inside     1Fam            5   \n",
       "1        1          20       RL     9600       FR2     1Fam            8   \n",
       "2        2          60       RL    11250    Inside     1Fam            5   \n",
       "3        3          70       RL     9550    Corner     1Fam            5   \n",
       "4        4          60       RL    14260       FR2     1Fam            5   \n",
       "...    ...         ...      ...      ...       ...      ...          ...   \n",
       "2914  2914         160       RM     1936    Inside    Twnhs            7   \n",
       "2915  2915         160       RM     1894    Inside   TwnhsE            5   \n",
       "2916  2916          20       RL    20000    Inside     1Fam            7   \n",
       "2917  2917          85       RL    10441    Inside     1Fam            5   \n",
       "2918  2918          60       RL     9627    Inside     1Fam            5   \n",
       "\n",
       "      YearBuilt  YearRemodAdd Exterior1st  BsmtFinSF2  TotalBsmtSF  \\\n",
       "0          2003          2003     VinylSd         0.0        856.0   \n",
       "1          1976          1976     MetalSd         0.0       1262.0   \n",
       "2          2001          2002     VinylSd         0.0        920.0   \n",
       "3          1915          1970     Wd Sdng         0.0        756.0   \n",
       "4          2000          2000     VinylSd         0.0       1145.0   \n",
       "...         ...           ...         ...         ...          ...   \n",
       "2914       1970          1970     CemntBd         0.0        546.0   \n",
       "2915       1970          1970     CemntBd         0.0        546.0   \n",
       "2916       1960          1996     VinylSd         0.0       1224.0   \n",
       "2917       1992          1992     HdBoard         0.0        912.0   \n",
       "2918       1993          1994     HdBoard         0.0        996.0   \n",
       "\n",
       "         SalePrice  \n",
       "0     208500.00000  \n",
       "1     181500.00000  \n",
       "2     223500.00000  \n",
       "3     140000.00000  \n",
       "4     250000.00000  \n",
       "...            ...  \n",
       "2914  180921.19589  \n",
       "2915  180921.19589  \n",
       "2916  180921.19589  \n",
       "2917  180921.19589  \n",
       "2918  180921.19589  \n",
       "\n",
       "[2913 rows x 13 columns]"
      ]
     },
     "execution_count": 431,
     "metadata": {},
     "output_type": "execute_result"
    }
   ],
   "source": [
    "dataset\n"
   ]
  },
  {
   "cell_type": "code",
   "execution_count": 432,
   "id": "aed5e943",
   "metadata": {},
   "outputs": [
    {
     "data": {
      "text/plain": [
       "(2913, 13)"
      ]
     },
     "execution_count": 432,
     "metadata": {},
     "output_type": "execute_result"
    }
   ],
   "source": [
    "dataset.shape"
   ]
  },
  {
   "cell_type": "code",
   "execution_count": 433,
   "id": "09adab03",
   "metadata": {},
   "outputs": [],
   "source": [
    "dataset.drop('Id',axis=1,inplace=True)"
   ]
  },
  {
   "cell_type": "code",
   "execution_count": 434,
   "id": "64d3679d",
   "metadata": {},
   "outputs": [
    {
     "data": {
      "text/plain": [
       "(2913, 12)"
      ]
     },
     "execution_count": 434,
     "metadata": {},
     "output_type": "execute_result"
    }
   ],
   "source": [
    "dataset.shape\n"
   ]
  },
  {
   "cell_type": "code",
   "execution_count": 435,
   "id": "9ca84e38",
   "metadata": {
    "scrolled": false
   },
   "outputs": [
    {
     "data": {
      "text/html": [
       "<div>\n",
       "<style scoped>\n",
       "    .dataframe tbody tr th:only-of-type {\n",
       "        vertical-align: middle;\n",
       "    }\n",
       "\n",
       "    .dataframe tbody tr th {\n",
       "        vertical-align: top;\n",
       "    }\n",
       "\n",
       "    .dataframe thead th {\n",
       "        text-align: right;\n",
       "    }\n",
       "</style>\n",
       "<table border=\"1\" class=\"dataframe\">\n",
       "  <thead>\n",
       "    <tr style=\"text-align: right;\">\n",
       "      <th></th>\n",
       "      <th>MSSubClass</th>\n",
       "      <th>LotArea</th>\n",
       "      <th>OverallCond</th>\n",
       "      <th>YearBuilt</th>\n",
       "      <th>YearRemodAdd</th>\n",
       "      <th>BsmtFinSF2</th>\n",
       "      <th>TotalBsmtSF</th>\n",
       "      <th>SalePrice</th>\n",
       "    </tr>\n",
       "  </thead>\n",
       "  <tbody>\n",
       "    <tr>\n",
       "      <th>MSSubClass</th>\n",
       "      <td>1.000000</td>\n",
       "      <td>-0.202661</td>\n",
       "      <td>-0.066033</td>\n",
       "      <td>0.033428</td>\n",
       "      <td>0.042057</td>\n",
       "      <td>-0.072839</td>\n",
       "      <td>-0.222397</td>\n",
       "      <td>-0.059326</td>\n",
       "    </tr>\n",
       "    <tr>\n",
       "      <th>LotArea</th>\n",
       "      <td>-0.202661</td>\n",
       "      <td>1.000000</td>\n",
       "      <td>-0.025024</td>\n",
       "      <td>0.031226</td>\n",
       "      <td>0.027047</td>\n",
       "      <td>0.085927</td>\n",
       "      <td>0.262102</td>\n",
       "      <td>0.237990</td>\n",
       "    </tr>\n",
       "    <tr>\n",
       "      <th>OverallCond</th>\n",
       "      <td>-0.066033</td>\n",
       "      <td>-0.025024</td>\n",
       "      <td>1.000000</td>\n",
       "      <td>-0.375150</td>\n",
       "      <td>0.043586</td>\n",
       "      <td>0.040980</td>\n",
       "      <td>-0.180554</td>\n",
       "      <td>-0.055299</td>\n",
       "    </tr>\n",
       "    <tr>\n",
       "      <th>YearBuilt</th>\n",
       "      <td>0.033428</td>\n",
       "      <td>0.031226</td>\n",
       "      <td>-0.375150</td>\n",
       "      <td>1.000000</td>\n",
       "      <td>0.611755</td>\n",
       "      <td>-0.028329</td>\n",
       "      <td>0.407691</td>\n",
       "      <td>0.369442</td>\n",
       "    </tr>\n",
       "    <tr>\n",
       "      <th>YearRemodAdd</th>\n",
       "      <td>0.042057</td>\n",
       "      <td>0.027047</td>\n",
       "      <td>0.043586</td>\n",
       "      <td>0.611755</td>\n",
       "      <td>1.000000</td>\n",
       "      <td>-0.062818</td>\n",
       "      <td>0.294832</td>\n",
       "      <td>0.355167</td>\n",
       "    </tr>\n",
       "    <tr>\n",
       "      <th>BsmtFinSF2</th>\n",
       "      <td>-0.072839</td>\n",
       "      <td>0.085927</td>\n",
       "      <td>0.040980</td>\n",
       "      <td>-0.028329</td>\n",
       "      <td>-0.062818</td>\n",
       "      <td>1.000000</td>\n",
       "      <td>0.089027</td>\n",
       "      <td>-0.007672</td>\n",
       "    </tr>\n",
       "    <tr>\n",
       "      <th>TotalBsmtSF</th>\n",
       "      <td>-0.222397</td>\n",
       "      <td>0.262102</td>\n",
       "      <td>-0.180554</td>\n",
       "      <td>0.407691</td>\n",
       "      <td>0.294832</td>\n",
       "      <td>0.089027</td>\n",
       "      <td>1.000000</td>\n",
       "      <td>0.433343</td>\n",
       "    </tr>\n",
       "    <tr>\n",
       "      <th>SalePrice</th>\n",
       "      <td>-0.059326</td>\n",
       "      <td>0.237990</td>\n",
       "      <td>-0.055299</td>\n",
       "      <td>0.369442</td>\n",
       "      <td>0.355167</td>\n",
       "      <td>-0.007672</td>\n",
       "      <td>0.433343</td>\n",
       "      <td>1.000000</td>\n",
       "    </tr>\n",
       "  </tbody>\n",
       "</table>\n",
       "</div>"
      ],
      "text/plain": [
       "              MSSubClass   LotArea  OverallCond  YearBuilt  YearRemodAdd  \\\n",
       "MSSubClass      1.000000 -0.202661    -0.066033   0.033428      0.042057   \n",
       "LotArea        -0.202661  1.000000    -0.025024   0.031226      0.027047   \n",
       "OverallCond    -0.066033 -0.025024     1.000000  -0.375150      0.043586   \n",
       "YearBuilt       0.033428  0.031226    -0.375150   1.000000      0.611755   \n",
       "YearRemodAdd    0.042057  0.027047     0.043586   0.611755      1.000000   \n",
       "BsmtFinSF2     -0.072839  0.085927     0.040980  -0.028329     -0.062818   \n",
       "TotalBsmtSF    -0.222397  0.262102    -0.180554   0.407691      0.294832   \n",
       "SalePrice      -0.059326  0.237990    -0.055299   0.369442      0.355167   \n",
       "\n",
       "              BsmtFinSF2  TotalBsmtSF  SalePrice  \n",
       "MSSubClass     -0.072839    -0.222397  -0.059326  \n",
       "LotArea         0.085927     0.262102   0.237990  \n",
       "OverallCond     0.040980    -0.180554  -0.055299  \n",
       "YearBuilt      -0.028329     0.407691   0.369442  \n",
       "YearRemodAdd   -0.062818     0.294832   0.355167  \n",
       "BsmtFinSF2      1.000000     0.089027  -0.007672  \n",
       "TotalBsmtSF     0.089027     1.000000   0.433343  \n",
       "SalePrice      -0.007672     0.433343   1.000000  "
      ]
     },
     "execution_count": 435,
     "metadata": {},
     "output_type": "execute_result"
    }
   ],
   "source": [
    "## View the co-relation Matrix.\n",
    "\n",
    "dataset.corr()"
   ]
  },
  {
   "cell_type": "code",
   "execution_count": 436,
   "id": "086b4b09",
   "metadata": {},
   "outputs": [
    {
     "data": {
      "text/plain": [
       "<Axes: >"
      ]
     },
     "execution_count": 436,
     "metadata": {},
     "output_type": "execute_result"
    },
    {
     "data": {
      "image/png": "[encoded data removed]",
      "text/plain": [
       "<Figure size 720x720 with 2 Axes>"
      ]
     },
     "metadata": {
      "needs_background": "light"
     },
     "output_type": "display_data"
    }
   ],
   "source": [
    "## View the co-relation in terms of matrix.\n",
    "\n",
    "f, ax = plt.subplots(figsize = (10,10))\n",
    "sns.heatmap(dataset.corr(), square=True, annot=True)"
   ]
  },
  {
   "cell_type": "code",
   "execution_count": 437,
   "id": "7298af54",
   "metadata": {},
   "outputs": [],
   "source": [
    "cat_cols = dataset.select_dtypes(include=['object']).columns\n",
    "num_cols = dataset.select_dtypes(include=['float64','int64']).columns"
   ]
  },
  {
   "cell_type": "code",
   "execution_count": 438,
   "id": "f2717f53",
   "metadata": {},
   "outputs": [
    {
     "data": {
      "text/plain": [
       "MSZoning  LotConfig  BldgType  Exterior1st\n",
       "RL        Inside     1Fam      VinylSd        557\n",
       "                               HdBoard        246\n",
       "                               Wd Sdng        205\n",
       "                               MetalSd        170\n",
       "          Corner     1Fam      VinylSd        132\n",
       "                                             ... \n",
       "          CulDSac    1Fam      WdShing          1\n",
       "          Corner     TwnhsE    MetalSd          1\n",
       "                               HdBoard          1\n",
       "                               CemntBd          1\n",
       "          FR2        Duplex    HdBoard          1\n",
       "Length: 190, dtype: int64"
      ]
     },
     "execution_count": 438,
     "metadata": {},
     "output_type": "execute_result"
    }
   ],
   "source": [
    "dataset[cat_cols].value_counts()"
   ]
  },
  {
   "cell_type": "code",
   "execution_count": 439,
   "id": "75159ff5",
   "metadata": {},
   "outputs": [
    {
     "data": {
      "text/plain": [
       "Index(['MSSubClass', 'LotArea', 'OverallCond', 'YearBuilt', 'YearRemodAdd',\n",
       "       'BsmtFinSF2', 'TotalBsmtSF', 'SalePrice'],\n",
       "      dtype='object')"
      ]
     },
     "execution_count": 439,
     "metadata": {},
     "output_type": "execute_result"
    }
   ],
   "source": [
    "num_cols"
   ]
  },
  {
   "cell_type": "code",
   "execution_count": 440,
   "id": "63521bbf",
   "metadata": {},
   "outputs": [
    {
     "data": {
      "text/html": [
       "<div>\n",
       "<style scoped>\n",
       "    .dataframe tbody tr th:only-of-type {\n",
       "        vertical-align: middle;\n",
       "    }\n",
       "\n",
       "    .dataframe tbody tr th {\n",
       "        vertical-align: top;\n",
       "    }\n",
       "\n",
       "    .dataframe thead th {\n",
       "        text-align: right;\n",
       "    }\n",
       "</style>\n",
       "<table border=\"1\" class=\"dataframe\">\n",
       "  <thead>\n",
       "    <tr style=\"text-align: right;\">\n",
       "      <th></th>\n",
       "      <th>MSSubClass</th>\n",
       "      <th>LotArea</th>\n",
       "      <th>OverallCond</th>\n",
       "      <th>YearBuilt</th>\n",
       "      <th>YearRemodAdd</th>\n",
       "      <th>BsmtFinSF2</th>\n",
       "      <th>TotalBsmtSF</th>\n",
       "      <th>SalePrice</th>\n",
       "    </tr>\n",
       "  </thead>\n",
       "  <tbody>\n",
       "    <tr>\n",
       "      <th>MSSubClass</th>\n",
       "      <td>1.000000</td>\n",
       "      <td>-0.202661</td>\n",
       "      <td>-0.066033</td>\n",
       "      <td>0.033428</td>\n",
       "      <td>0.042057</td>\n",
       "      <td>-0.072839</td>\n",
       "      <td>-0.222397</td>\n",
       "      <td>-0.059326</td>\n",
       "    </tr>\n",
       "    <tr>\n",
       "      <th>LotArea</th>\n",
       "      <td>-0.202661</td>\n",
       "      <td>1.000000</td>\n",
       "      <td>-0.025024</td>\n",
       "      <td>0.031226</td>\n",
       "      <td>0.027047</td>\n",
       "      <td>0.085927</td>\n",
       "      <td>0.262102</td>\n",
       "      <td>0.237990</td>\n",
       "    </tr>\n",
       "    <tr>\n",
       "      <th>OverallCond</th>\n",
       "      <td>-0.066033</td>\n",
       "      <td>-0.025024</td>\n",
       "      <td>1.000000</td>\n",
       "      <td>-0.375150</td>\n",
       "      <td>0.043586</td>\n",
       "      <td>0.040980</td>\n",
       "      <td>-0.180554</td>\n",
       "      <td>-0.055299</td>\n",
       "    </tr>\n",
       "    <tr>\n",
       "      <th>YearBuilt</th>\n",
       "      <td>0.033428</td>\n",
       "      <td>0.031226</td>\n",
       "      <td>-0.375150</td>\n",
       "      <td>1.000000</td>\n",
       "      <td>0.611755</td>\n",
       "      <td>-0.028329</td>\n",
       "      <td>0.407691</td>\n",
       "      <td>0.369442</td>\n",
       "    </tr>\n",
       "    <tr>\n",
       "      <th>YearRemodAdd</th>\n",
       "      <td>0.042057</td>\n",
       "      <td>0.027047</td>\n",
       "      <td>0.043586</td>\n",
       "      <td>0.611755</td>\n",
       "      <td>1.000000</td>\n",
       "      <td>-0.062818</td>\n",
       "      <td>0.294832</td>\n",
       "      <td>0.355167</td>\n",
       "    </tr>\n",
       "    <tr>\n",
       "      <th>BsmtFinSF2</th>\n",
       "      <td>-0.072839</td>\n",
       "      <td>0.085927</td>\n",
       "      <td>0.040980</td>\n",
       "      <td>-0.028329</td>\n",
       "      <td>-0.062818</td>\n",
       "      <td>1.000000</td>\n",
       "      <td>0.089027</td>\n",
       "      <td>-0.007672</td>\n",
       "    </tr>\n",
       "    <tr>\n",
       "      <th>TotalBsmtSF</th>\n",
       "      <td>-0.222397</td>\n",
       "      <td>0.262102</td>\n",
       "      <td>-0.180554</td>\n",
       "      <td>0.407691</td>\n",
       "      <td>0.294832</td>\n",
       "      <td>0.089027</td>\n",
       "      <td>1.000000</td>\n",
       "      <td>0.433343</td>\n",
       "    </tr>\n",
       "    <tr>\n",
       "      <th>SalePrice</th>\n",
       "      <td>-0.059326</td>\n",
       "      <td>0.237990</td>\n",
       "      <td>-0.055299</td>\n",
       "      <td>0.369442</td>\n",
       "      <td>0.355167</td>\n",
       "      <td>-0.007672</td>\n",
       "      <td>0.433343</td>\n",
       "      <td>1.000000</td>\n",
       "    </tr>\n",
       "  </tbody>\n",
       "</table>\n",
       "</div>"
      ],
      "text/plain": [
       "              MSSubClass   LotArea  OverallCond  YearBuilt  YearRemodAdd  \\\n",
       "MSSubClass      1.000000 -0.202661    -0.066033   0.033428      0.042057   \n",
       "LotArea        -0.202661  1.000000    -0.025024   0.031226      0.027047   \n",
       "OverallCond    -0.066033 -0.025024     1.000000  -0.375150      0.043586   \n",
       "YearBuilt       0.033428  0.031226    -0.375150   1.000000      0.611755   \n",
       "YearRemodAdd    0.042057  0.027047     0.043586   0.611755      1.000000   \n",
       "BsmtFinSF2     -0.072839  0.085927     0.040980  -0.028329     -0.062818   \n",
       "TotalBsmtSF    -0.222397  0.262102    -0.180554   0.407691      0.294832   \n",
       "SalePrice      -0.059326  0.237990    -0.055299   0.369442      0.355167   \n",
       "\n",
       "              BsmtFinSF2  TotalBsmtSF  SalePrice  \n",
       "MSSubClass     -0.072839    -0.222397  -0.059326  \n",
       "LotArea         0.085927     0.262102   0.237990  \n",
       "OverallCond     0.040980    -0.180554  -0.055299  \n",
       "YearBuilt      -0.028329     0.407691   0.369442  \n",
       "YearRemodAdd   -0.062818     0.294832   0.355167  \n",
       "BsmtFinSF2      1.000000     0.089027  -0.007672  \n",
       "TotalBsmtSF     0.089027     1.000000   0.433343  \n",
       "SalePrice      -0.007672     0.433343   1.000000  "
      ]
     },
     "execution_count": 440,
     "metadata": {},
     "output_type": "execute_result"
    }
   ],
   "source": [
    "dataset[num_cols].corr()"
   ]
  },
  {
   "cell_type": "code",
   "execution_count": 441,
   "id": "0eae0e7a",
   "metadata": {},
   "outputs": [
    {
     "data": {
      "text/plain": [
       "Index(['MSZoning', 'LotConfig', 'BldgType', 'Exterior1st'], dtype='object')"
      ]
     },
     "execution_count": 441,
     "metadata": {},
     "output_type": "execute_result"
    }
   ],
   "source": [
    "cat_cols"
   ]
  },
  {
   "cell_type": "code",
   "execution_count": 442,
   "id": "6d2ff27e",
   "metadata": {},
   "outputs": [],
   "source": [
    "##{'MSZoning': {'RL': 2264, 'RM': 459, 'FV': 139, 'RH': 26, 'C (all)': 25}, 'LotConfig': {'Inside': 2128, 'Corner': 511, 'CulDSac': 176, 'FR2': 85, 'FR3': 13}, 'BldgType': {'1Fam': 2419, 'TwnhsE': 227, 'Duplex': 109, 'Twnhs': 96, '2fmCon': 62}, 'Exterior1st': {'VinylSd': 1025, 'MetalSd': 449, 'HdBoard': 442, 'Wd Sdng': 409, 'Plywood': 221, 'CemntBd': 126, 'BrkFace': 87, 'WdShing': 56, 'AsbShng': 43, 'Stucco': 43, 'BrkComm': 6, 'AsphShn': 2, 'Stone': 2, 'ImStucc': 1, 'CBlock': 1}}\n",
    "    \n",
    "counts={}\n",
    "\n",
    "for col in cat_cols:\n",
    "    counts[col] = dataset[col].value_counts().to_dict() "
   ]
  },
  {
   "cell_type": "code",
   "execution_count": 443,
   "id": "8dec5576",
   "metadata": {},
   "outputs": [
    {
     "data": {
      "text/plain": [
       "{'MSZoning': {'RL': 2264, 'RM': 459, 'FV': 139, 'RH': 26, 'C (all)': 25},\n",
       " 'LotConfig': {'Inside': 2128,\n",
       "  'Corner': 511,\n",
       "  'CulDSac': 176,\n",
       "  'FR2': 85,\n",
       "  'FR3': 13},\n",
       " 'BldgType': {'1Fam': 2419,\n",
       "  'TwnhsE': 227,\n",
       "  'Duplex': 109,\n",
       "  'Twnhs': 96,\n",
       "  '2fmCon': 62},\n",
       " 'Exterior1st': {'VinylSd': 1025,\n",
       "  'MetalSd': 449,\n",
       "  'HdBoard': 442,\n",
       "  'Wd Sdng': 409,\n",
       "  'Plywood': 221,\n",
       "  'CemntBd': 126,\n",
       "  'BrkFace': 87,\n",
       "  'WdShing': 56,\n",
       "  'AsbShng': 43,\n",
       "  'Stucco': 43,\n",
       "  'BrkComm': 6,\n",
       "  'AsphShn': 2,\n",
       "  'Stone': 2,\n",
       "  'ImStucc': 1,\n",
       "  'CBlock': 1}}"
      ]
     },
     "execution_count": 443,
     "metadata": {},
     "output_type": "execute_result"
    }
   ],
   "source": [
    "counts"
   ]
  },
  {
   "cell_type": "code",
   "execution_count": 444,
   "id": "b0e01635",
   "metadata": {},
   "outputs": [],
   "source": [
    "## Converting categorical columns to numerical\n",
    "\n",
    "dataset = pd.get_dummies(dataset)"
   ]
  },
  {
   "cell_type": "code",
   "execution_count": 445,
   "id": "90a6a17e",
   "metadata": {},
   "outputs": [
    {
     "data": {
      "text/plain": [
       "(2913, 38)"
      ]
     },
     "execution_count": 445,
     "metadata": {},
     "output_type": "execute_result"
    }
   ],
   "source": [
    "dataset.shape"
   ]
  },
  {
   "cell_type": "code",
   "execution_count": 446,
   "id": "d9a77b7c",
   "metadata": {},
   "outputs": [],
   "source": [
    "## Split the data into train and test.\n",
    "\n",
    "x=dataset.drop('SalePrice',axis=1)\n",
    "y=dataset['SalePrice']\n",
    "X_train, X_valid, Y_train, Y_valid = train_test_split(x,y,test_size=0.20,random_state=0)"
   ]
  },
  {
   "cell_type": "code",
   "execution_count": 447,
   "id": "40832640",
   "metadata": {},
   "outputs": [],
   "source": [
    "## Train the model using Linear Regression and calculate the measures.\n",
    "\n",
    "regression=LinearRegression()\n",
    "regression.fit(X_train,Y_train)\n",
    "Y_pred=regression.predict(X_valid)\n",
    "mape=mean_absolute_percentage_error(Y_valid, Y_pred)\n",
    "mse=mean_squared_error(Y_valid,Y_pred)\n",
    "mae=mean_absolute_error(Y_valid,Y_pred)\n",
    "score=r2_score(Y_valid,Y_pred)"
   ]
  },
  {
   "cell_type": "code",
   "execution_count": 448,
   "id": "e8c801b9",
   "metadata": {
    "scrolled": true
   },
   "outputs": [
    {
     "name": "stdout",
     "output_type": "stream",
     "text": [
      "MAPE for Linear Regression is: 0.1874\n",
      "R^2 for Linear Regression is: 0.3741\n",
      "MSE for Linear Regression is: 1692380766.4527\n",
      "MAE for Linear Regression is: 30829.9367\n"
     ]
    }
   ],
   "source": [
    "## Show the measures.\n",
    "\n",
    "print(f\"MAPE for Linear Regression is: {mape:0.4f}\")\n",
    "print(f\"R^2 for Linear Regression is: {score:0.4f}\")\n",
    "print(f\"MSE for Linear Regression is: {mse:0.4f}\")\n",
    "print(f\"MAE for Linear Regression is: {mae:0.4f}\")"
   ]
  },
  {
   "cell_type": "code",
   "execution_count": 449,
   "id": "fcf9a9de",
   "metadata": {},
   "outputs": [],
   "source": [
    "## Train the model using Random Forest Regression and calculate the metrics.\n",
    "\n",
    "rf_reg = RandomForestRegressor()\n",
    "rf_reg.fit(X_train,Y_train)\n",
    "Y_pred=rf_reg.predict(X_valid)\n",
    "mape=mean_absolute_percentage_error(Y_valid, Y_pred)\n",
    "mse=mean_squared_error(Y_valid,Y_pred)\n",
    "mae=mean_absolute_error(Y_valid,Y_pred)\n",
    "score=r2_score(Y_valid,Y_pred)"
   ]
  },
  {
   "cell_type": "code",
   "execution_count": null,
   "id": "e4c42bdd",
   "metadata": {},
   "outputs": [],
   "source": [
    "print(f\"MAPE for RandomForest Regression is: {mape:0.4f}\")\n",
    "print(f\"R^2 for RandomForest Regression is: {score:0.4f}\")\n",
    "print(f\"MSE for RandomForest Regression is: {mse:0.4f}\")\n",
    "print(f\"MAE for RandomForest Regression is: {mae:0.4f}\")"
   ]
  },
  {
   "cell_type": "code",
   "execution_count": null,
   "id": "0b9e25b9",
   "metadata": {},
   "outputs": [],
   "source": [
    "## Train the data using Support Vector Machines.\n",
    "\n",
    "reg = SVR(kernel = 'rbf')\n",
    "reg.fit(X_train,Y_train)\n",
    "Y_pred=reg.predict(X_valid)\n",
    "mape=mean_absolute_percentage_error(Y_valid, Y_pred)\n",
    "mse=mean_squared_error(Y_valid,Y_pred)\n",
    "mae=mean_absolute_error(Y_valid,Y_pred)\n",
    "score=r2_score(Y_valid,Y_pred)"
   ]
  },
  {
   "cell_type": "code",
   "execution_count": null,
   "id": "4ee41e21",
   "metadata": {},
   "outputs": [],
   "source": [
    "print(f\"MAPE for SVM is: {mape:0.4f}\")\n",
    "print(f\"R^2 for SVM is: {score:0.4f}\")\n",
    "print(f\"MSE for SVM is: {mse:0.4f}\")\n",
    "print(f\"MAE for SVM is: {mae:0.4f}\")"
   ]
  },
  {
   "cell_type": "code",
   "execution_count": null,
   "id": "02bcc833",
   "metadata": {},
   "outputs": [],
   "source": [
    "### Train the data using Ridge Regression.\n",
    "\n",
    "reg =  Ridge(alpha=1.0)\n",
    "reg.fit(X_train,Y_train)\n",
    "Y_pred=reg.predict(X_valid)\n",
    "mape=mean_absolute_percentage_error(Y_valid, Y_pred)\n",
    "mse=mean_squared_error(Y_valid,Y_pred)\n",
    "mae=mean_absolute_error(Y_valid,Y_pred)\n",
    "score=r2_score(Y_valid,Y_pred)"
   ]
  },
  {
   "cell_type": "code",
   "execution_count": null,
   "id": "55c86d78",
   "metadata": {},
   "outputs": [],
   "source": [
    "print(f\"MAPE for Ridge Regression is: {mape:0.4f}\")\n",
    "print(f\"R^2 for Ridge Regression is: {score:0.4f}\")\n",
    "print(f\"MSE for Ridge Regression is: {mse:0.4f}\")\n",
    "print(f\"MAE for Ridge Regression is: {mae:0.4f}\")"
   ]
  },
  {
   "cell_type": "code",
   "execution_count": null,
   "id": "4e8d944e",
   "metadata": {},
   "outputs": [],
   "source": []
  }
 ],
 "metadata": {
  "kernelspec": {
   "display_name": "Python 3 (ipykernel)",
   "language": "python",
   "name": "python3"
  },
  "language_info": {
   "codemirror_mode": {
    "name": "ipython",
    "version": 3
   },
   "file_extension": ".py",
   "mimetype": "text/x-python",
   "name": "python",
   "nbconvert_exporter": "python",
   "pygments_lexer": "ipython3",
   "version": "3.9.7"
  }
 },
 "nbformat": 4,
 "nbformat_minor": 5
}
